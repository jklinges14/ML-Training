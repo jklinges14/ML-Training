{
 "cells": [
  {
   "cell_type": "markdown",
   "metadata": {},
   "source": [
    "# Intro to AutoML"
   ]
  },
  {
   "cell_type": "markdown",
   "metadata": {},
   "source": [
    "# Introduction\n",
    "When applying machine learning to real-world data, there are a lot of steps involved in the process -- starting with collecting the data and ending with generating predictions. (We work with the seven steps of machine learning, as defined by Yufeng Guo here.)\n",
    "\n",
    "It all begins with Step 1: Gather the data. In industry, there are important considerations you need to take into account when building a dataset, such as target leakage. When participating in a Kaggle competition, this step is already completed for you.\n",
    "\n",
    "In the Intro to Machine Learning and the Intermediate Machine Learning courses, you can learn how to:\n",
    "\n",
    "Step 2: Prepare the data - Deal with missing values and categorical data. (Feature engineering is covered in a separate course.)\n",
    "Step 4: Train the model - Fit decision trees and random forests to patterns in training data.\n",
    "Step 5: Evaluate the model - Use a validation set to assess how well a trained model performs on unseen data.\n",
    "Step 6: Tune parameters - Tune parameters to get better performance from XGBoost models.\n",
    "Step 7: Get predictions - Generate predictions with a trained model\n",
    "    \n",
    "That leaves Step 3: Select a model. There are a lot of different types of models. Which one should you select for your problem? When you're just getting started, the best option is just to try everything and build your own intuition - there aren't any universally accepted rules. There are also many useful Kaggle notebooks (like this one) where you can see how and when other Kagglers used different models.\n",
    "\n",
    "Mastering the machine learning process involves a lot of time and practice. While you're still learning, you can turn to automated machine learning (AutoML) tools to generate intelligent predictions.\n",
    "\n",
    "Automated machine learning (AutoML)\n",
    "In this notebook, you'll learn how to use Google Cloud AutoML Tables to automate the machine learning process. While Kaggle has already taken care of the data collection, AutoML Tables will take care of all remaining steps.\n",
    "\n",
    "AutoML Tables is a paid service. In the exercise that follows this tutorial, we'll show you how to claim $300 of free credits that you can use to train your own models!\n",
    "\n",
    "Note: This lesson is optional. It is not required to complete the Intro to Machine Learning course.\n"
   ]
  },
  {
   "cell_type": "markdown",
   "metadata": {},
   "source": [
    "# Code\n",
    "We'll work with data from the New York City Taxi Fare Prediction competition. In this competition, we want you to predict the fare amount (inclusive of tolls) for a taxi ride in New York City, given the pickup and dropoff locations, number of passengers, and the pickup date and time.\n",
    "\n",
    "To do this, we'll use a Python class that calls on AutoML Tables. To use this code, you need only define the following variables:\n",
    "\n",
    "PROJECT_ID - The name of your Google Cloud project. All of the work that you'll do in Google Cloud is organized in \"projects\".\n",
    "BUCKET_NAME - The name of your Google Cloud storage bucket. In order to work with AutoML, we'll need to create a storage bucket, where we'll upload the Kaggle dataset.\n",
    "DATASET_DISPLAY_NAME - The name of your dataset.\n",
    "TRAIN_FILEPATH - The filepath for the training data (train.csv file) from the competition.\n",
    "TEST_FILEPATH - The filepath for the test data (test.csv file) from the competition.\n",
    "TARGET_COLUMN - The name of the column in your training data that contains the values you'd like to predict.\n",
    "ID_COLUMN - The name of the column containing IDs.\n",
    "MODEL_DISPLAY_NAME - The name of your model.\n",
    "TRAIN_BUDGET - How long you want your model to train (use 1000 for 1 hour, 2000 for 2 hours, and so on).\n",
    "All of these variables will make more sense when you run your own code in the following exercise!"
   ]
  },
  {
   "cell_type": "code",
   "execution_count": null,
   "metadata": {},
   "outputs": [],
   "source": [
    "PROJECT_ID = 'kaggle-playground-170215'\n",
    "BUCKET_NAME = 'automl-tutorial-alexis'\n",
    "\n",
    "DATASET_DISPLAY_NAME = 'taxi_fare_dataset'\n",
    "TRAIN_FILEPATH = \"../working/train_small.csv\" \n",
    "TEST_FILEPATH = \"../input/new-york-city-taxi-fare-prediction/test.csv\"\n",
    "\n",
    "TARGET_COLUMN = 'fare_amount'\n",
    "ID_COLUMN = 'key'\n",
    "\n",
    "MODEL_DISPLAY_NAME = 'tutorial_model'\n",
    "TRAIN_BUDGET = 4000\n",
    "\n",
    "# Import the class defining the wrapper\n",
    "from automl_tables_wrapper import AutoMLTablesWrapper\n",
    "\n",
    "# Create an instance of the wrapper\n",
    "amw = AutoMLTablesWrapper(project_id=PROJECT_ID,\n",
    "                          bucket_name=BUCKET_NAME,\n",
    "                          dataset_display_name=DATASET_DISPLAY_NAME,\n",
    "                          train_filepath=TRAIN_FILEPATH,\n",
    "                          test_filepath=TEST_FILEPATH,\n",
    "                          target_column=TARGET_COLUMN,\n",
    "                          id_column=ID_COLUMN,\n",
    "                          model_display_name=MODEL_DISPLAY_NAME,\n",
    "                          train_budget=TRAIN_BUDGET)"
   ]
  },
  {
   "cell_type": "code",
   "execution_count": null,
   "metadata": {},
   "outputs": [],
   "source": [
    "Next, we train a model and use it to generate predictions on the test dataset."
   ]
  },
  {
   "cell_type": "code",
   "execution_count": null,
   "metadata": {},
   "outputs": [],
   "source": [
    "# Create and train the model\n",
    "amw.train_model()\n",
    "\n",
    "# Get predictions\n",
    "amw.get_predictions()"
   ]
  },
  {
   "cell_type": "code",
   "execution_count": null,
   "metadata": {},
   "outputs": [],
   "source": [
    "After completing these steps, we have a file that we can submit to the competition! In the code cell below, we load this submission file and view the first several rows.\n",
    "\n",
    "submission_df = pd.read_csv(\"../working/submission.csv\")\n",
    "submission_df.head()\n"
   ]
  },
  {
   "cell_type": "code",
   "execution_count": null,
   "metadata": {},
   "outputs": [],
   "source": [
    "And how well does it perform? Well, the competition provides a starter notebook with a simple linear model that predicts a fare amount based on the distance between the pickup and dropoff locations. This approach outperforms that notebook, and it ranks better than roughly half of the total submissions to the competition.\n",
    "\n",
    "Run your own code using AutoML Tables to make a submission to a Kaggle competition!"
   ]
  }
 ],
 "metadata": {
  "kernelspec": {
   "display_name": "Python 3",
   "language": "python",
   "name": "python3"
  },
  "language_info": {
   "codemirror_mode": {
    "name": "ipython",
    "version": 3
   },
   "file_extension": ".py",
   "mimetype": "text/x-python",
   "name": "python",
   "nbconvert_exporter": "python",
   "pygments_lexer": "ipython3",
   "version": "3.6.10"
  }
 },
 "nbformat": 4,
 "nbformat_minor": 4
}
